{
 "cells": [
  {
   "cell_type": "code",
   "execution_count": 1,
   "id": "5e46b6d0-5e02-4950-89f5-4a6a69834ee7",
   "metadata": {},
   "outputs": [
    {
     "name": "stderr",
     "output_type": "stream",
     "text": [
      "/Users/jeremiahfisher/miniforge3/envs/slowai/lib/python3.9/site-packages/tqdm/auto.py:21: TqdmWarning: IProgress not found. Please update jupyter and ipywidgets. See https://ipywidgets.readthedocs.io/en/stable/user_install.html\n",
      "  from .autonotebook import tqdm as notebook_tqdm\n"
     ]
    }
   ],
   "source": [
    "from dataclasses import dataclass\n",
    "\n",
    "import matplotlib.pyplot as plt\n",
    "import torch\n",
    "from diffusers import PNDMScheduler, StableDiffusionPipeline\n",
    "from PIL import Image\n",
    "from torchvision import transforms"
   ]
  },
  {
   "cell_type": "code",
   "execution_count": 2,
   "id": "a3ed7ab8-9364-4888-b775-d332664f2495",
   "metadata": {},
   "outputs": [],
   "source": [
    "η = 1\n",
    "T_SKIP = 36\n",
    "N_DIFFUSION_STEPS = 100\n",
    "DEVICE = \"mps\"\n",
    "MODEL_ID = \"CompVis/stable-diffusion-v1-4\"\n",
    "CFG_SCALE_SRC = 3.5\n",
    "CFG_SCALE_TGT = 15\n",
    "INITIAL_IMAGE = \"horse_mud.jpg\"\n",
    "PROMPT_SRC = \"a photo of a horse in the mud\"\n",
    "PROMPT_TGT = \"a photo of a horse in the snow\""
   ]
  },
  {
   "cell_type": "code",
   "execution_count": 3,
   "id": "285c7df5-3870-41ab-aa1f-281a1be20c70",
   "metadata": {},
   "outputs": [
    {
     "name": "stderr",
     "output_type": "stream",
     "text": [
      "`text_config_dict` is provided which will be used to initialize `CLIPTextConfig`. The value `text_config[\"id2label\"]` will be overriden.\n"
     ]
    }
   ],
   "source": [
    "rng = torch.manual_seed(42)\n",
    "pipe = StableDiffusionPipeline.from_pretrained(MODEL_ID).to(DEVICE)\n",
    "pipe.scheduler.set_timesteps(N_DIFFUSION_STEPS)\n",
    "img = Image.open(INITIAL_IMAGE)"
   ]
  },
  {
   "cell_type": "code",
   "execution_count": 4,
   "id": "be8aca32-98e2-4053-8d7d-bc2863e08b04",
   "metadata": {},
   "outputs": [],
   "source": [
    "def compress(img):\n",
    "    \"\"\"Project pixels into latent space\"\"\"\n",
    "    VAE_TO_UNET_SCALING_FACTOR = 0.18215\n",
    "    to_tensor = transforms.ToTensor()\n",
    "    img = to_tensor(img).unsqueeze(0).to(DEVICE)\n",
    "    img = img * 2 - 1  # Note scaling\n",
    "    with torch.no_grad():\n",
    "        latents = pipe.vae.encode(img)\n",
    "    return VAE_TO_UNET_SCALING_FACTOR * latents.latent_dist.sample()\n",
    "\n",
    "\n",
    "x0 = compress(img)"
   ]
  },
  {
   "cell_type": "code",
   "execution_count": 5,
   "id": "da7444eb-5322-4700-b0f8-4773ff2e2c96",
   "metadata": {},
   "outputs": [
    {
     "data": {
      "text/plain": [
       "torch.Size([2, 77, 768])"
      ]
     },
     "execution_count": 5,
     "metadata": {},
     "output_type": "execute_result"
    }
   ],
   "source": [
    "def tokenize_and_encode(prompt, max_length):\n",
    "    prompt_tokens = pipe.tokenizer(\n",
    "        prompt,\n",
    "        padding=\"max_length\",\n",
    "        max_length=max_length,\n",
    "        truncation=True,\n",
    "        return_tensors=\"pt\",\n",
    "    )\n",
    "    with torch.no_grad():\n",
    "        return pipe.text_encoder(prompt_tokens.input_ids.to(DEVICE)).last_hidden_state\n",
    "\n",
    "\n",
    "def embed_prompt(prompt):\n",
    "    cond_embedding = tokenize_and_encode(prompt, pipe.tokenizer.model_max_length)\n",
    "    _, max_length, _ = cond_embedding.shape\n",
    "    uncond_embedding = tokenize_and_encode(\"\", max_length)\n",
    "    return torch.cat([cond_embedding, uncond_embedding])\n",
    "\n",
    "\n",
    "prompt_embedding_src = embed_prompt(PROMPT_SRC)\n",
    "prompt_embedding_src.shape"
   ]
  },
  {
   "cell_type": "markdown",
   "id": "a44e9862-6abf-4bbd-92b1-3934bee0cce8",
   "metadata": {},
   "source": [
    "`alphas_cumprod` is defined somewhat clumsily for all possible total time steps, and is reordered when indexed by the specific `pipe.scheduler.timesteps` for our run. Therefore, we define `ᾱs` such that `ᾱs[t]` corresponds to the $\\bar{\\alpha}_t$ for a solver with `N_DIFFUSION_STEPS`."
   ]
  },
  {
   "cell_type": "code",
   "execution_count": 6,
   "id": "7986bfa0-6ea2-4fda-ae11-a1bfa49b844b",
   "metadata": {},
   "outputs": [
    {
     "data": {
      "image/png": "[encoded data removed]",
      "text/plain": [
       "<Figure size 640x480 with 1 Axes>"
      ]
     },
     "metadata": {},
     "output_type": "display_data"
    }
   ],
   "source": [
    "ᾱs = pipe.scheduler.alphas_cumprod[pipe.scheduler.timesteps]\n",
    "plt.plot(ᾱs);"
   ]
  },
  {
   "cell_type": "markdown",
   "id": "0c3626f6-b666-4986-8622-9ea3a5860fe8",
   "metadata": {},
   "source": [
    "With that convenience variables, we implement equation 2, which is the crux of the algorithm.\n",
    "\n",
    "This is the first loop, calculating $x_i \\forall i \\in \\{1 \\dots T\\}$"
   ]
  },
  {
   "cell_type": "code",
   "execution_count": 7,
   "id": "d11a7fc2-2129-4f94-b2eb-77f3338c89d2",
   "metadata": {},
   "outputs": [
    {
     "data": {
      "text/plain": [
       "101"
      ]
     },
     "execution_count": 7,
     "metadata": {},
     "output_type": "execute_result"
    }
   ],
   "source": [
    "xts = []\n",
    "for ᾱ_t in ᾱs:\n",
    "    Ɛ̃ = torch.rand_like(x0, device=DEVICE)\n",
    "    xt = torch.sqrt(ᾱ_t) * x0 + torch.sqrt(1 - ᾱ_t) * Ɛ̃\n",
    "    xts.append(xt)\n",
    "len(xts)"
   ]
  },
  {
   "cell_type": "code",
   "execution_count": null,
   "id": "adeece0b-0adb-4e7d-ab6e-75613e932422",
   "metadata": {},
   "outputs": [],
   "source": [
    "zs = []\n",
    "for t, xt, ᾱ_t in zip(\n",
    "    reversed(pipe.scheduler.timesteps),\n",
    "    reversed(xts),\n",
    "    reversed(ᾱs),\n",
    "):\n",
    "    # prompt_embedding_src = torch.cat([cond_embedding, uncond_embedding])\n",
    "    c, u = pipe.unet(torch.cat([xt, xt]), t, prompt_embedding_src).sample.chunk(2)\n",
    "    ε_pred = u + CFG_SCALE_SRC * (c - u)\n",
    "    x0_pred = (xt - torch.sqrt(1 - ᾱ_t) * ε_pred) / torch.sqrt(ᾱ_t)"
   ]
  }
 ],
 "metadata": {
  "kernelspec": {
   "display_name": "SlowAI",
   "language": "python",
   "name": "slowai"
  },
  "language_info": {
   "codemirror_mode": {
    "name": "ipython",
    "version": 3
   },
   "file_extension": ".py",
   "mimetype": "text/x-python",
   "name": "python",
   "nbconvert_exporter": "python",
   "pygments_lexer": "ipython3",
   "version": "3.9.16"
  }
 },
 "nbformat": 4,
 "nbformat_minor": 5
}
